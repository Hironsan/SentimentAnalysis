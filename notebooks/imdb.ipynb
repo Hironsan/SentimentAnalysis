{
 "cells": [
  {
   "cell_type": "code",
   "execution_count": 1,
   "metadata": {
    "collapsed": true
   },
   "outputs": [],
   "source": [
    "import os\n",
    "\n",
    "import matplotlib.pyplot as plt\n",
    "from sklearn.model_selection import train_test_split\n",
    "from sklearn.feature_extraction.text import CountVectorizer\n",
    "from sklearn.feature_extraction.text import TfidfTransformer\n",
    "from sklearn.ensemble import RandomForestClassifier\n",
    "from sklearn.model_selection import GridSearchCV\n",
    "from sklearn.pipeline import Pipeline\n",
    "from sklearn.metrics import classification_report, accuracy_score\n",
    "\n",
    "DATA_DIR = os.path.join(os.getcwd(), 'data/raw')"
   ]
  },
  {
   "cell_type": "code",
   "execution_count": 4,
   "metadata": {},
   "outputs": [],
   "source": [
    "def load_data():\n",
    "    print('Now Loading...')\n",
    "    res = {'train': {'label': [], 'data': []},\n",
    "           'test': {'label': [], 'data': []}}\n",
    "    for test_or_train in ['test', 'train']:\n",
    "        for label in ['neg', 'pos']:\n",
    "            dir_name = os.path.join(DATA_DIR, 'aclimdb', test_or_train, label)\n",
    "            files = os.listdir(dir_name)\n",
    "            for file in files:\n",
    "                with open(os.path.join(dir_name, file)) as f:\n",
    "                    item = f.read()\n",
    "                    res[test_or_train]['label'].append(label)\n",
    "                    res[test_or_train]['data'].append(item)\n",
    "    X_train, X_test =res['train']['data'], res['test']['data']\n",
    "    y_train, y_test =res['train']['label'], res['test']['label']\n",
    "    print('Complete Loading')\n",
    "    return X_train, X_test, y_train, y_test"
   ]
  },
  {
   "cell_type": "code",
   "execution_count": 3,
   "metadata": {},
   "outputs": [],
   "source": [
    "def build_pipeline():\n",
    "    parameters = {'n_estimators': [10, 30, 50, 70, 90, 110, 130, 150], 'max_features': ['auto', 'sqrt', 'log2', None]}\n",
    "    text_clf = Pipeline([('vect', CountVectorizer()),\n",
    "                         ('tfidf', TfidfTransformer()),\n",
    "                         ('clf', GridSearchCV(RandomForestClassifier(), parameters, cv=2, scoring='accuracy', n_jobs=-1)),\n",
    "                         ])\n",
    "    return text_clf"
   ]
  },
  {
   "cell_type": "code",
   "execution_count": 5,
   "metadata": {},
   "outputs": [
    {
     "name": "stdout",
     "output_type": "stream",
     "text": [
      "Now Loading...\n"
     ]
    },
    {
     "name": "stdout",
     "output_type": "stream",
     "text": [
      "Complete Loading\n"
     ]
    },
    {
     "name": "stdout",
     "output_type": "stream",
     "text": [
      "Accuracy: 0.84252\n             precision    recall  f1-score   support\n\n        neg       0.84      0.85      0.84     12500\n        pos       0.85      0.83      0.84     12500\n\navg / total       0.84      0.84      0.84     25000\n\n"
     ]
    }
   ],
   "source": [
    "X_train, X_test, y_train, y_test = load_data()\n",
    "text_clf = build_pipeline()\n",
    "text_clf = text_clf.fit(X_train, y_train)\n",
    "y_pred = text_clf.predict(X_test)\n",
    "\n",
    "# Evaluation\n",
    "print('Accuracy: {}'.format(accuracy_score(y_test, y_pred)))\n",
    "print(classification_report(y_test, y_pred))"
   ]
  }
 ],
 "metadata": {
  "kernelspec": {
   "display_name": "Python 2",
   "language": "python",
   "name": "python2"
  },
  "language_info": {
   "codemirror_mode": {
    "name": "ipython",
    "version": 2.0
   },
   "file_extension": ".py",
   "mimetype": "text/x-python",
   "name": "python",
   "nbconvert_exporter": "python",
   "pygments_lexer": "ipython2",
   "version": "2.7.6"
  }
 },
 "nbformat": 4,
 "nbformat_minor": 0
}