{
 "cells": [
  {
   "cell_type": "markdown",
   "metadata": {
    "collapsed": true
   },
   "source": [
    "# Introduction\n",
    "Effectiveness of bigram in sentiment analysis."
   ]
  },
  {
   "cell_type": "markdown",
   "metadata": {},
   "source": [
    "# Environment set-up and data preparation\n",
    "Let's start by setting up the environment.\n",
    "To have a clean installation that would not mess up my current python packages, I created a virtual environment named sentimentVenv. The python version is 3.6.\n",
    "\n",
    "```console\n",
    "virtualenv sentimentVenv --python=python3.6\n",
    "```\n",
    "\n",
    "Now, activate the environment.\n",
    "\n",
    "```console\n",
    "source sentimentVenv/bin/activate\n",
    "```\n",
    "\n",
    "Inside this environment, we'll need to install these libraries:\n",
    "* scikit-learn\n",
    "* scipy\n",
    "* jupyter\n",
    "\n",
    "```console\n",
    "pip install scikit-learn\n",
    "pip install scipy\n",
    "pip install jupyter\n",
    "```\n",
    "\n",
    "The environment should now be ready.\n",
    "The dataset can be downloaded from this link. It includes 50000 text files. Each text represents movie review. These files are stored in pos/neg directory, corresponding sentiment.\n",
    "\n",
    "Let's load the python libraries and have a look at the dataset."
   ]
  },
  {
   "cell_type": "code",
   "execution_count": 1,
   "metadata": {
    "collapsed": true
   },
   "outputs": [],
   "source": [
    "import os\n",
    "\n",
    "from sklearn.feature_extraction.text import CountVectorizer\n",
    "from sklearn.feature_extraction.text import TfidfTransformer\n",
    "from sklearn.pipeline import Pipeline\n",
    "from sklearn.metrics import classification_report, accuracy_score\n",
    "from sklearn.naive_bayes import MultinomialNB\n",
    "\n",
    "DATA_DIR = os.path.join(os.getcwd(), 'data/raw')"
   ]
  },
  {
   "cell_type": "markdown",
   "metadata": {},
   "source": [
    "Let's define a function that loads the dataset and extracts the two columns we need:\n",
    "* The sentiment: a binary (0/1) variable\n",
    "* The text of the movie review: string"
   ]
  },
  {
   "cell_type": "code",
   "execution_count": 2,
   "metadata": {},
   "outputs": [
    {
     "name": "stdout",
     "output_type": "stream",
     "text": [
      "Now Loading...\n"
     ]
    },
    {
     "name": "stdout",
     "output_type": "stream",
     "text": [
      "Dataset loaded\n"
     ]
    }
   ],
   "source": [
    "def load_data():\n",
    "    print('Now Loading...')\n",
    "    res = {'train': {'label': [], 'data': []},\n",
    "           'test': {'label': [], 'data': []}}\n",
    "    for test_or_train in ['test', 'train']:\n",
    "        for label in ['neg', 'pos']:\n",
    "            dir_name = os.path.join(DATA_DIR, 'aclImdb', test_or_train, label)\n",
    "            files = os.listdir(dir_name)\n",
    "            for file in files:\n",
    "                if not file.endswith('.txt'):\n",
    "                    continue\n",
    "                with open(os.path.join(dir_name, file)) as f:\n",
    "                    item = f.read()\n",
    "                    res[test_or_train]['label'].append(label)\n",
    "                    res[test_or_train]['data'].append(item)\n",
    "    X_train, X_test =res['train']['data'], res['test']['data']\n",
    "    y_train, y_test =res['train']['label'], res['test']['label']\n",
    "    print('Dataset loaded')\n",
    "    return X_train, X_test, y_train, y_test\n",
    "\n",
    "X_train, X_test, y_train, y_test = load_data()"
   ]
  },
  {
   "cell_type": "markdown",
   "metadata": {},
   "source": [
    "# Building a sentiment classifier: unigram features\n",
    "Let's now get to the sentiment classification part. \n",
    "In order to classify text, we have to turn them into vectors as well. In scikit-learn, this task is very easy. We have only to pass dataset to CountVectorizer. It tokenizes text and convert tokenized text to frequency matrix. In addition,, a better operation, we compute weights for words where each weight gives the importance of the word. Such a weight could the tf-idf score.\n",
    "\n",
    "Let's start by building a tf-idf matrix."
   ]
  },
  {
   "cell_type": "code",
   "execution_count": 3,
   "metadata": {},
   "outputs": [],
   "source": [
    "def build_pipeline():\n",
    "    text_clf = Pipeline([('vect', CountVectorizer(min_df=1, stop_words='english')),\n",
    "                         ('tfidf', TfidfTransformer()),\n",
    "                         ('clf', MultinomialNB()),\n",
    "                         ])\n",
    "    return text_clf"
   ]
  },
  {
   "cell_type": "markdown",
   "metadata": {},
   "source": [
    "We should now be ready to feed these vectors into a classifier. "
   ]
  },
  {
   "cell_type": "code",
   "execution_count": 4,
   "metadata": {},
   "outputs": [],
   "source": [
    "text_clf = build_pipeline()\n",
    "text_clf = text_clf.fit(X_train, y_train)"
   ]
  },
  {
   "cell_type": "markdown",
   "metadata": {},
   "source": [
    "Now that the model is trained, let's evaluate it on the test set:"
   ]
  },
  {
   "cell_type": "code",
   "execution_count": 5,
   "metadata": {},
   "outputs": [
    {
     "name": "stdout",
     "output_type": "stream",
     "text": [
      "Accuracy: 0.82992\n             precision    recall  f1-score   support\n\n        neg       0.80      0.88      0.84     12500\n        pos       0.87      0.78      0.82     12500\n\navg / total       0.83      0.83      0.83     25000\n\n"
     ]
    }
   ],
   "source": [
    "y_pred = text_clf.predict(X_test)\n",
    "print('Accuracy: {}'.format(accuracy_score(y_test, y_pred)))\n",
    "print(classification_report(y_test, y_pred))"
   ]
  },
  {
   "cell_type": "markdown",
   "metadata": {},
   "source": [
    "Almost 83% accuracy. This is not bad. If we tune more parameters,  we reach a higher score."
   ]
  },
  {
   "cell_type": "markdown",
   "metadata": {},
   "source": [
    "# Building a sentiment classifier: bigram features"
   ]
  },
  {
   "cell_type": "code",
   "execution_count": 6,
   "metadata": {},
   "outputs": [],
   "source": [
    "def build_pipeline():\n",
    "    text_clf = Pipeline([('vect', CountVectorizer(ngram_range=(1, 2), token_pattern=r'\\b\\w+\\b', min_df=1, stop_words='english')),\n",
    "                         ('tfidf', TfidfTransformer()),\n",
    "                         ('clf', MultinomialNB()),\n",
    "                         ])\n",
    "    return text_clf"
   ]
  },
  {
   "cell_type": "markdown",
   "metadata": {},
   "source": [
    "We should now be ready to feed these vectors into a classifier"
   ]
  },
  {
   "cell_type": "code",
   "execution_count": 7,
   "metadata": {},
   "outputs": [],
   "source": [
    "text_clf = build_pipeline()\n",
    "text_clf = text_clf.fit(X_train, y_train)"
   ]
  },
  {
   "cell_type": "markdown",
   "metadata": {},
   "source": [
    "Now that the model is trained, let's evaluate it on the test set:"
   ]
  },
  {
   "cell_type": "code",
   "execution_count": 8,
   "metadata": {},
   "outputs": [
    {
     "name": "stdout",
     "output_type": "stream",
     "text": [
      "Accuracy: 0.85484\n             precision    recall  f1-score   support\n\n        neg       0.83      0.90      0.86     12500\n        pos       0.89      0.81      0.85     12500\n\navg / total       0.86      0.85      0.85     25000\n\n"
     ]
    }
   ],
   "source": [
    "y_pred = text_clf.predict(X_test)\n",
    "print('Accuracy: {}'.format(accuracy_score(y_test, y_pred)))\n",
    "print(classification_report(y_test, y_pred))"
   ]
  },
  {
   "cell_type": "markdown",
   "metadata": {},
   "source": [
    "Almost 86% accuracy. This is not bad. If we tune more parameters,  we reach a higher score."
   ]
  },
  {
   "cell_type": "markdown",
   "metadata": {},
   "source": [
    "# Conclusion\n",
    "In this post we explored different features to perform sentiment analysis: We built a sentiment classifier using unigram and bigram.\n",
    "The classifier using unigram feature resulted in a 83% classification model accuracy. This is not bad.\n",
    "\n",
    "For improving this classifier, we can investigate the classifier using bigram features. The classifier resulted in a 86% accuracy. It is higher than the classifier based on unigram.\n",
    "\n",
    "I hope this tutorial was a good introductory start to sentiment analysis."
   ]
  }
 ],
 "metadata": {
  "kernelspec": {
   "display_name": "Python 2",
   "language": "python",
   "name": "python2"
  },
  "language_info": {
   "codemirror_mode": {
    "name": "ipython",
    "version": 2.0
   },
   "file_extension": ".py",
   "mimetype": "text/x-python",
   "name": "python",
   "nbconvert_exporter": "python",
   "pygments_lexer": "ipython2",
   "version": "2.7.6"
  }
 },
 "nbformat": 4,
 "nbformat_minor": 0
}